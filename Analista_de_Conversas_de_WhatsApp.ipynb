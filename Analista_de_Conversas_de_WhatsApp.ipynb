{
  "nbformat": 4,
  "nbformat_minor": 0,
  "metadata": {
    "colab": {
      "provenance": [],
      "authorship_tag": "ABX9TyOqqHyg4CynVnrqtDFp6F6o",
      "include_colab_link": true
    },
    "kernelspec": {
      "name": "python3",
      "display_name": "Python 3"
    },
    "language_info": {
      "name": "python"
    }
  },
  "cells": [
    {
      "cell_type": "markdown",
      "metadata": {
        "id": "view-in-github",
        "colab_type": "text"
      },
      "source": [
        "<a href=\"https://colab.research.google.com/github/LucasFelipeNunes/Analista-de-Conversas-de-WhatsApp/blob/main/Analista_de_Conversas_de_WhatsApp.ipynb\" target=\"_parent\"><img src=\"https://colab.research.google.com/assets/colab-badge.svg\" alt=\"Open In Colab\"/></a>"
      ]
    },
    {
      "cell_type": "markdown",
      "source": [
        "# 📄 Analista de Conversas do WhatsApp\n",
        "\n",
        "Olá! Este programa tem como objetivo analisar estatísticas detalhadas de uma conversa exportada (sem mídias) do WhatsApp, tendo sido desenvolvido em Python na plataforma do Google Colab. A análise inclui aspectos como volume de mensagens, distribuição temporal, uso de palavras, emojis, mídias e outros indicadores de comportamento dos participantes.\n",
        "\n",
        "Para utilizar este programa, você pode abrir este código com o botão no canto superior esquerdo e salvá-lo no seu Drive, e, na mesma pasta em que você salvar o programa, salvar o arquivo em txt da conversa exportada do WhatsApp, com o nome `conversa.txt`.\n",
        "\n",
        "## 📥 Entrada\n",
        "\n",
        "O programa espera um arquivo de texto no formato padrão de exportação do WhatsApp (sem mídia), em que cada linha segue o formato:\n",
        "\n",
        "```\n",
        "dd/mm/aaaa hh:mm - Nome: Mensagem\n",
        "```\n",
        "\n",
        "Exemplo:\n",
        "\n",
        "```\n",
        "20/04/2024 14:53 - João: Olá, tudo bem?\n",
        "```\n",
        "\n",
        "## 📤 Saída\n",
        "\n",
        "Os resultados são exibidos diretamente no console, organizados em seções com listagens ordenadas de acordo com a frequência ou volume."
      ],
      "metadata": {
        "id": "WPFEqIGylEP0"
      }
    },
    {
      "cell_type": "markdown",
      "source": [
        "## Importação das Bibliotecas"
      ],
      "metadata": {
        "id": "p8Ityh7Zj97d"
      }
    },
    {
      "cell_type": "code",
      "source": [
        "import re\n",
        "import numpy as np\n",
        "from collections import defaultdict, Counter\n",
        "from emoji import demojize, is_emoji\n",
        "from google.colab import drive"
      ],
      "metadata": {
        "id": "cq4w2H56kCZl"
      },
      "execution_count": null,
      "outputs": []
    },
    {
      "cell_type": "markdown",
      "source": [
        "## Conexão com o Drive"
      ],
      "metadata": {
        "id": "J8_6Fz6KkErb"
      }
    },
    {
      "cell_type": "code",
      "source": [
        "drive.mount('/content/drive')\n",
        "arquivo = \"/content/drive/MyDrive/conversa.txt\""
      ],
      "metadata": {
        "id": "WxKXEDyXkJWg"
      },
      "execution_count": null,
      "outputs": []
    },
    {
      "cell_type": "markdown",
      "source": [
        "## Funções Auxiliares"
      ],
      "metadata": {
        "id": "AjS6wuwkkPGO"
      }
    },
    {
      "cell_type": "code",
      "source": [
        "def detectar_periodo(hora):\n",
        "    h = int(hora.split(':')[0])\n",
        "    if h < 6:\n",
        "        return 'madrugada'\n",
        "    elif h < 12:\n",
        "        return 'manhã'\n",
        "    elif h < 18:\n",
        "        return 'tarde'\n",
        "    return 'noite'\n",
        "\n",
        "def limpar_mensagem(msg):\n",
        "    return msg.lower().strip()\n",
        "\n",
        "def filtrar_palavras(palavras):\n",
        "    return [\n",
        "        p for p in palavras\n",
        "        if len(p) >= 5\n",
        "        and not re.fullmatch(r'(ha|he|hi|ho|hu|rs)+', p)\n",
        "        and not re.fullmatch(r'[k]{3,}', p)\n",
        "        and not re.fullmatch(r'\\d+', p)\n",
        "        and not p.startswith(\"http\")\n",
        "    ]\n",
        "\n",
        "\n",
        "def extrair_emojis(texto):\n",
        "    return [char for char in texto if is_emoji(char)]"
      ],
      "metadata": {
        "id": "3ktwsYwUkRN7"
      },
      "execution_count": null,
      "outputs": []
    },
    {
      "cell_type": "markdown",
      "source": [
        "## Declaração das Variáveis"
      ],
      "metadata": {
        "id": "MB3AsN2JkXJl"
      }
    },
    {
      "cell_type": "code",
      "source": [
        "padrao_msg = re.compile(r'^(\\d{2}/\\d{2}/\\d{4}) (\\d{2}:\\d{2}) - ([^:]+): (.+)$')\n",
        "\n",
        "total_mensagens = total_palavras = 0\n",
        "mensagens_por_usuario = defaultdict(int)\n",
        "palavras_por_usuario = defaultdict(int)\n",
        "palavras_comuns = Counter()\n",
        "palavras_comuns_por_usuario = defaultdict(Counter)\n",
        "ultimas_mensagens_por_dia = {}\n",
        "maior_mensagem = ''\n",
        "pessoa_maior_mensagem = ''\n",
        "mensagens_por_periodo = defaultdict(int)\n",
        "mensagens_por_usuario_periodo = defaultdict(lambda: defaultdict(int))\n",
        "midias_por_usuario = defaultdict(int)\n",
        "apagadas_por_usuario = defaultdict(int)\n",
        "emojis_geral = Counter()\n",
        "emojis_por_usuario = defaultdict(Counter)\n",
        "caracteres_por_mensagem = defaultdict(int)"
      ],
      "metadata": {
        "id": "Ym562uI2kaEy"
      },
      "execution_count": null,
      "outputs": []
    },
    {
      "cell_type": "markdown",
      "source": [
        "## Algoritmo Principal"
      ],
      "metadata": {
        "id": "q-h1ln9Wka3d"
      }
    },
    {
      "cell_type": "code",
      "source": [
        "with open(arquivo, encoding='utf-8') as f:\n",
        "    for linha in f:\n",
        "        linha = linha.strip()\n",
        "        match = padrao_msg.match(linha)\n",
        "        if not match:\n",
        "            continue\n",
        "\n",
        "        data, hora, nome, msg = match.groups()\n",
        "        msg_lower = limpar_mensagem(msg)\n",
        "\n",
        "        mensagens_por_usuario[nome] += 1\n",
        "        ultimas_mensagens_por_dia[data] = nome\n",
        "        total_mensagens += 1\n",
        "\n",
        "        periodo = detectar_periodo(hora)\n",
        "        mensagens_por_periodo[periodo] += 1\n",
        "        mensagens_por_usuario_periodo[nome][periodo] += 1\n",
        "\n",
        "        if \"<mídia oculta>\" in msg_lower:\n",
        "            midias_por_usuario[nome] += 1\n",
        "            continue\n",
        "\n",
        "        if \"mensagem apagada\" in msg_lower:\n",
        "            apagadas_por_usuario[nome] += 1\n",
        "            continue\n",
        "\n",
        "        if len(msg) > len(maior_mensagem):\n",
        "            maior_mensagem = msg\n",
        "            pessoa_maior_mensagem = nome\n",
        "\n",
        "        emojis = extrair_emojis(msg)\n",
        "        if emojis:\n",
        "            emojis_geral.update(emojis)\n",
        "            emojis_por_usuario[nome].update(emojis)\n",
        "\n",
        "        caracteres_por_mensagem[nome] += len(msg)\n",
        "\n",
        "        palavras = filtrar_palavras(re.findall(r'\\b\\w+\\b', msg_lower))\n",
        "        for p in palavras:\n",
        "            palavras_comuns[p] += 1\n",
        "            palavras_comuns_por_usuario[nome][p] += 1\n",
        "            palavras_por_usuario[nome] += 1\n",
        "            total_palavras += 1"
      ],
      "metadata": {
        "id": "KDwZn-W-klr-"
      },
      "execution_count": null,
      "outputs": []
    },
    {
      "cell_type": "markdown",
      "source": [
        "## Impressão dos Relatórios"
      ],
      "metadata": {
        "id": "X5rt6CufkqC7"
      }
    },
    {
      "cell_type": "code",
      "source": [
        "def imprimir_relatorios():\n",
        "    aux = 0\n",
        "    print(f\"Total de mensagens: {total_mensagens}\\nMensagens por usuário:\")\n",
        "    for usuario, total in sorted(mensagens_por_usuario.items(), key=lambda x: x[1], reverse=True):\n",
        "        aux += 1\n",
        "        media = caracteres_por_mensagem[usuario] / total\n",
        "        print(f\"{aux}. {usuario}: {total}, média de caracteres {media:.2f}\")\n",
        "\n",
        "    aux = 0\n",
        "    print(f\"\\nTotal de palavras: {total_palavras}\\nPalavras por usuário:\")\n",
        "    for usuario, total in sorted(palavras_por_usuario.items(), key=lambda x: x[1], reverse=True):\n",
        "        aux += 1\n",
        "        print(f\"{aux}. {usuario}: {total}\")\n",
        "\n",
        "    aux = 0\n",
        "    print(\"\\nTop 5 palavras:\")\n",
        "    for palavra, count in palavras_comuns.most_common(5):\n",
        "        aux += 1\n",
        "        print(f\"{aux}. {palavra}: {count}\")\n",
        "\n",
        "    aux = 0\n",
        "    print(\"\\nTop 5 palavras por usuário:\")\n",
        "    for usuario, contador in palavras_comuns_por_usuario.items():\n",
        "        lista = [f\"{palavra} ({quantidade})\" for palavra, quantidade in contador.most_common(5)]\n",
        "        print(f\"\\n{usuario}:\")\n",
        "        for palavra in lista:\n",
        "            aux += 1\n",
        "            print(f\"{aux}. {palavra}\")\n",
        "        aux = 0\n",
        "\n",
        "    print(\"\\nMensagens por período:\")\n",
        "    for periodo, total in mensagens_por_periodo.items():\n",
        "        print(f\"{periodo.capitalize()}: {total}\")\n",
        "\n",
        "    aux = 0\n",
        "    print(\"\\nUsuários por período:\")\n",
        "    for periodo in ['madrugada', 'manhã', 'tarde', 'noite']:\n",
        "        print(f\"\\n{periodo.capitalize()}:\")\n",
        "        usuarios = mensagens_por_usuario_periodo.items()\n",
        "        lista = sorted(((u, p[periodo]) for u, p in usuarios if periodo in p), key=lambda x: x[1], reverse=True)\n",
        "        for usuario, total in lista:\n",
        "            aux += 1\n",
        "            print(f\"{aux}. {usuario}: {total}\")\n",
        "        aux = 0\n",
        "\n",
        "    print(f\"\\nMaior mensagem: {len(maior_mensagem)} caracteres, de {pessoa_maior_mensagem}\")\n",
        "\n",
        "    aux = 0\n",
        "    print(\"\\nMídias por usuário:\")\n",
        "    for usuario, total in sorted(midias_por_usuario.items(), key=lambda x: x[1], reverse=True):\n",
        "        aux += 1\n",
        "        print(f\"{aux}. {usuario}: {total}\")\n",
        "\n",
        "    aux = 0\n",
        "    print(\"\\nMensagens apagadas por usuário:\")\n",
        "    for usuario, total in sorted(apagadas_por_usuario.items(), key=lambda x: x[1], reverse=True):\n",
        "        aux += 1\n",
        "        print(f\"{aux}. {usuario}: {total}\")\n",
        "\n",
        "    aux = 0\n",
        "    print(\"\\nVácuos por dia:\")\n",
        "    vacuos = Counter(ultimas_mensagens_por_dia.values())\n",
        "    for autor, dias in vacuos.most_common():\n",
        "        aux += 1\n",
        "        print(f\"{aux}. {autor} ficou no vácuo em {dias} dias.\")\n",
        "\n",
        "    aux = 0\n",
        "    print(\"\\nTop emojis (geral):\")\n",
        "    for emoji, count in emojis_geral.most_common(5):\n",
        "        aux += 1\n",
        "        print(f\"{aux}. {emoji} - {count}x\")\n",
        "\n",
        "    aux = 0\n",
        "    print(\"\\nTop emojis por usuário:\")\n",
        "    for usuario, contador in emojis_por_usuario.items():\n",
        "        print(f\"\\n{usuario}:\")\n",
        "        for emoji, count in contador.most_common(5):\n",
        "            aux += 1\n",
        "            print(f\"{aux}. {emoji} - {count}x\")\n",
        "        aux = 0\n",
        "\n",
        "    aux = 0\n",
        "    print(\"\\nCaracteres por usuário:\")\n",
        "    for usuario, total in sorted(caracteres_por_mensagem.items(), key=lambda x: x[1], reverse=True):\n",
        "        aux += 1\n",
        "        print(f\"{aux}. {usuario}: {total}\")\n",
        "\n",
        "imprimir_relatorios()"
      ],
      "metadata": {
        "id": "iG95kcwZksSJ"
      },
      "execution_count": null,
      "outputs": []
    }
  ]
}